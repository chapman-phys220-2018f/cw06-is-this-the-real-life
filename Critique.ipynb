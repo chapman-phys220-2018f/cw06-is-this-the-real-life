{
 "cells": [
  {
   "cell_type": "markdown",
   "metadata": {
    "collapsed": false
   },
   "source": [
    "# Morgan's Critique of Jessica's Code\n",
    "1. I noticed that your Travis build is failing. I can't tell from your code why, but make sure its green!\n",
    "2. Your code is a little difficult to read as there's a lot without descriptors.\n",
    "3. Your test_primes.py and primes.py are the exact same file, which makes it very confusing to differentiate between the modules, what you're testing and the program that is running.\n",
    "4. I do like that you used the .pop() function though! It's a great idea!\n",
    "\n",
    "# Morgan's Critique of Gage's Code\n",
    "1. For your primes.py, don't forget the main function!\n",
    "2. I'm not sure if this is correct, but I don't think we're supposed to call the function in the module, but rather when we're executing the code in Python3.\n",
    "3. Good function and method of calculation. It's very different from the way I did it so I think that's awesome!\n"
   ]
  },
  {
   "cell_type": "markdown",
   "metadata": {
    "collapsed": false
   },
   "source": [
    "# Gage's Critique of Morgan's Code\n",
    "1. I like how the code is formatted, it's very readable, but some more comments could be nice.\n",
    "2. The code takes a different take than mine, I like it!\n",
    "\n",
    "# Gage's Critique of Jessica's Code\n",
    "1. I like they used assert functions to catch bugs, that's pretty cool!\n",
    "2. Invalid syntax at line 48 oof"
   ]
  },
  {
   "cell_type": "code",
   "execution_count": 0,
   "metadata": {
    "collapsed": false
   },
   "outputs": [
   ],
   "source": [
   ]
  }
 ],
 "metadata": {
  "kernelspec": {
   "display_name": "Python 3 (Anaconda 5)",
   "language": "python",
   "name": "anaconda5"
  },
  "language_info": {
   "codemirror_mode": {
    "name": "ipython",
    "version": 3
   },
   "file_extension": ".py",
   "mimetype": "text/x-python",
   "name": "python",
   "nbconvert_exporter": "python",
   "pygments_lexer": "ipython3",
   "version": "3.6.5"
  }
 },
 "nbformat": 4,
 "nbformat_minor": 0
}