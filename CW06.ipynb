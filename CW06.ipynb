{
 "cells": [
  {
   "cell_type": "code",
   "execution_count": 7,
   "metadata": {
    "collapsed": false
   },
   "outputs": [
   ],
   "source": [
    "import matplotlib.pyplot as plt\n",
    "%matplotlib inline\n",
    "\n",
    "plt.style.use(\"seaborn-pastel\")\n",
    "\n",
    "import elementary"
   ]
  },
  {
   "cell_type": "markdown",
   "metadata": {
    "collapsed": false
   },
   "source": [
    "# Our ClassWork 6\n",
    "### Morgan Holve, Gage Kizzar, Jessica Trawick\n",
    "### 2 October 2018"
   ]
  },
  {
   "cell_type": "markdown",
   "metadata": {
    "collapsed": false
   },
   "source": [
    "## Particles\n",
    "Here we will create instances of three classes; Particle, Proton, Electron. We will compare their masses before assigning them momentum values."
   ]
  },
  {
   "cell_type": "code",
   "execution_count": 10,
   "metadata": {
    "collapsed": false
   },
   "outputs": [
    {
     "name": "stdout",
     "output_type": "stream",
     "text": [
      "1.0\n",
      "1.672621898e-27\n",
      "9.10938356e-31\n"
     ]
    }
   ],
   "source": [
    "# Creating a generic particle\n",
    "particle = elementary.Particle(0,0,0)\n",
    "print(particle.mass)\n",
    "\n",
    "#Creating a generic proton\n",
    "proton = elementary.Proton(0,0,0)\n",
    "print(proton.mass)\n",
    "\n",
    "#Creating a generic electron\n",
    "electron = elementary.Electron(0,0,0)\n",
    "print(electron.mass)"
   ]
  },
  {
   "cell_type": "code",
   "execution_count": 0,
   "metadata": {
    "collapsed": false
   },
   "outputs": [
   ],
   "source": [
   ]
  }
 ],
 "metadata": {
  "kernelspec": {
   "display_name": "Python 3 (Anaconda 5)",
   "language": "python",
   "name": "anaconda5"
  },
  "language_info": {
   "codemirror_mode": {
    "name": "ipython",
    "version": 3
   },
   "file_extension": ".py",
   "mimetype": "text/x-python",
   "name": "python",
   "nbconvert_exporter": "python",
   "pygments_lexer": "ipython3",
   "version": "3.6.5"
  }
 },
 "nbformat": 4,
 "nbformat_minor": 0
}